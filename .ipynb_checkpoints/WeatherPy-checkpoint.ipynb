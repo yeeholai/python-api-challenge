{
 "cells": [
  {
   "cell_type": "markdown",
   "metadata": {},
   "source": [
    "# WeatherPy\n",
    "----\n",
    "\n",
    "#### Note\n",
    "* Instructions have been included for each segment. You do not have to follow them exactly, but they are included to help you think through the steps."
   ]
  },
  {
   "cell_type": "code",
   "execution_count": 1,
   "metadata": {
    "scrolled": true
   },
   "outputs": [],
   "source": [
    "# Dependencies and Setup\n",
    "import matplotlib.pyplot as plt\n",
    "import pandas as pd\n",
    "import numpy as np\n",
    "import requests\n",
    "import time\n",
    "from scipy.stats import linregress\n",
    "\n",
    "# Import API key\n",
    "from api_keys import weather_api_key\n",
    "\n",
    "# Incorporated citipy to determine city based on latitude and longitude\n",
    "from citipy import citipy\n",
    "\n",
    "# Output File (CSV)\n",
    "output_data_file = \"output_data/cities.csv\"\n",
    "\n",
    "# Range of latitudes and longitudes\n",
    "lat_range = (-90, 90)\n",
    "lng_range = (-180, 180)"
   ]
  },
  {
   "cell_type": "markdown",
   "metadata": {},
   "source": [
    "## Generate Cities List"
   ]
  },
  {
   "cell_type": "code",
   "execution_count": 2,
   "metadata": {},
   "outputs": [
    {
     "data": {
      "text/plain": [
       "74"
      ]
     },
     "execution_count": 2,
     "metadata": {},
     "output_type": "execute_result"
    }
   ],
   "source": [
    "# List for holding lat_lngs and cities\n",
    "lat_lngs = []\n",
    "cities = []\n",
    "\n",
    "# Create a set of random lat and lng combinations size=1500\n",
    "lats = np.random.uniform(lat_range[0], lat_range[1], size=100)\n",
    "lngs = np.random.uniform(lng_range[0], lng_range[1], size=100)\n",
    "lat_lngs = zip(lats, lngs)\n",
    "\n",
    "# Identify nearest city for each lat, lng combination\n",
    "for lat_lng in lat_lngs:\n",
    "    city = citipy.nearest_city(lat_lng[0], lat_lng[1]).city_name\n",
    "    \n",
    "    # If the city is unique, then add it to a our cities list\n",
    "    if city not in cities:\n",
    "        cities.append(city)\n",
    "\n",
    "# Print the city count to confirm sufficient count\n",
    "len(cities)"
   ]
  },
  {
   "cell_type": "markdown",
   "metadata": {},
   "source": [
    "### Perform API Calls\n",
    "* Perform a weather check on each city using a series of successive API calls.\n",
    "* Include a print log of each city as it'sbeing processed (with the city number and city name).\n"
   ]
  },
  {
   "cell_type": "code",
   "execution_count": 3,
   "metadata": {},
   "outputs": [],
   "source": [
    "# base_url='http://api.openweathermap.org/data/2.5/weather?'\n",
    "# params = {\n",
    "#     'q':\n",
    "#     'appid':weather_api_key\n",
    "# }"
   ]
  },
  {
   "cell_type": "code",
   "execution_count": 4,
   "metadata": {},
   "outputs": [
    {
     "name": "stdout",
     "output_type": "stream",
     "text": [
      "Processing Record 1 of Set 1 | castro\n",
      "City not found. Skipping\n",
      "Processing Record 3 of Set 1 | richards bay\n",
      "Processing Record 4 of Set 1 | punta arenas\n",
      "Processing Record 5 of Set 1 | kapaa\n",
      "Processing Record 6 of Set 1 | mahebourg\n",
      "Processing Record 7 of Set 1 | smithers\n",
      "Processing Record 8 of Set 1 | berlevag\n",
      "Processing Record 9 of Set 1 | esperance\n",
      "Processing Record 10 of Set 1 | bluff\n",
      "Processing Record 11 of Set 1 | kattivakkam\n",
      "Processing Record 12 of Set 1 | busselton\n",
      "Processing Record 13 of Set 1 | derzhavinsk\n",
      "Processing Record 14 of Set 1 | lebu\n",
      "Processing Record 15 of Set 1 | honningsvag\n",
      "Processing Record 16 of Set 1 | businga\n",
      "Processing Record 17 of Set 1 | arraial do cabo\n",
      "Processing Record 18 of Set 1 | clyde river\n",
      "Processing Record 19 of Set 1 | spornoye\n",
      "Processing Record 20 of Set 1 | kodiak\n",
      "Processing Record 21 of Set 1 | general roca\n",
      "Processing Record 22 of Set 1 | ilulissat\n",
      "Processing Record 23 of Set 1 | dikson\n",
      "Processing Record 24 of Set 1 | avarua\n",
      "Processing Record 25 of Set 1 | mataura\n",
      "Processing Record 26 of Set 1 | tasiilaq\n",
      "Processing Record 27 of Set 1 | rikitea\n",
      "Processing Record 28 of Set 1 | atuona\n",
      "Processing Record 29 of Set 1 | coquimbo\n",
      "Processing Record 30 of Set 1 | sault sainte marie\n",
      "Processing Record 31 of Set 1 | albany\n",
      "Processing Record 32 of Set 1 | baracoa\n",
      "Processing Record 33 of Set 1 | pochutla\n",
      "Processing Record 34 of Set 1 | peebles\n",
      "Processing Record 35 of Set 1 | jamestown\n",
      "City not found. Skipping\n",
      "Processing Record 37 of Set 1 | hithadhoo\n",
      "Processing Record 38 of Set 1 | grindavik\n",
      "City not found. Skipping\n",
      "Processing Record 40 of Set 1 | severo-kurilsk\n",
      "Processing Record 41 of Set 1 | guerrero negro\n",
      "Processing Record 42 of Set 1 | haines junction\n",
      "Processing Record 43 of Set 1 | cherskiy\n",
      "Processing Record 44 of Set 1 | juba\n",
      "Processing Record 45 of Set 1 | korla\n",
      "Processing Record 46 of Set 1 | quelimane\n",
      "Processing Record 47 of Set 1 | kavieng\n",
      "Processing Record 48 of Set 1 | taoudenni\n",
      "Processing Record 49 of Set 1 | tuktoyaktuk\n",
      "Processing Record 50 of Set 1 | the valley\n",
      "Processing Record 51 of Set 1 | kavaratti\n",
      "Processing Record 52 of Set 1 | bandarbeyla\n",
      "Processing Record 53 of Set 1 | kahului\n",
      "Processing Record 54 of Set 1 | mareeba\n",
      "Processing Record 55 of Set 1 | daru\n",
      "Processing Record 56 of Set 1 | qaanaaq\n",
      "Processing Record 57 of Set 1 | rawson\n",
      "Processing Record 58 of Set 1 | medea\n",
      "Processing Record 59 of Set 1 | puerto ayora\n",
      "Processing Record 60 of Set 1 | nikolskoye\n",
      "Processing Record 61 of Set 1 | aichach\n",
      "Processing Record 62 of Set 1 | bredasdorp\n",
      "Processing Record 63 of Set 1 | saint-francois\n",
      "Processing Record 64 of Set 1 | ushuaia\n",
      "Processing Record 65 of Set 1 | yumen\n",
      "Processing Record 66 of Set 1 | butaritari\n",
      "Processing Record 67 of Set 1 | lazarev\n",
      "City not found. Skipping\n",
      "Processing Record 69 of Set 1 | college\n",
      "Processing Record 70 of Set 1 | maldonado\n",
      "Processing Record 71 of Set 1 | airai\n",
      "Processing Record 72 of Set 1 | rosario\n",
      "Processing Record 73 of Set 1 | husavik\n",
      "Processing Record 74 of Set 1 | barrow\n"
     ]
    }
   ],
   "source": [
    "weather_dict = []\n",
    "units='imperial'\n",
    "\n",
    "for indx, city in enumerate(cities):\n",
    "    url = f'http://api.openweathermap.org/data/2.5/weather?q={city}&appid={weather_api_key}&units={units}'\n",
    "    data = requests.get(url).json()\n",
    "    try:\n",
    "        cty = city\n",
    "        lt= data['coord']['lat']\n",
    "        lg= data['coord']['lon']\n",
    "        mxt= data['main']['temp_max']\n",
    "        hmd=data['main']['humidity']\n",
    "        cld=data['clouds']['all']\n",
    "        wspd=data['wind']['speed']\n",
    "        ctry=data['sys']['country']\n",
    "        dt=data['dt']\n",
    "        \n",
    "        values = [cty,lt,lg,mxt,hmd,cld,wspd,ctry,dt]\n",
    "        \n",
    "        weather_dict.append(values)\n",
    "        \n",
    "        print(f'Processing Record {indx+1} of Set 1 | {city}')\n",
    "\n",
    "    except KeyError:\n",
    "        print(\"City not found. Skipping\")"
   ]
  },
  {
   "cell_type": "markdown",
   "metadata": {},
   "source": [
    "### Convert Raw Data to DataFrame\n",
    "* Export the city data into a .csv.\n",
    "* Display the DataFrame"
   ]
  },
  {
   "cell_type": "code",
   "execution_count": 5,
   "metadata": {},
   "outputs": [
    {
     "data": {
      "text/html": [
       "<div>\n",
       "<style scoped>\n",
       "    .dataframe tbody tr th:only-of-type {\n",
       "        vertical-align: middle;\n",
       "    }\n",
       "\n",
       "    .dataframe tbody tr th {\n",
       "        vertical-align: top;\n",
       "    }\n",
       "\n",
       "    .dataframe thead th {\n",
       "        text-align: right;\n",
       "    }\n",
       "</style>\n",
       "<table border=\"1\" class=\"dataframe\">\n",
       "  <thead>\n",
       "    <tr style=\"text-align: right;\">\n",
       "      <th></th>\n",
       "      <th>City</th>\n",
       "      <th>Lat</th>\n",
       "      <th>Lng</th>\n",
       "      <th>Max Temp</th>\n",
       "      <th>Humidity</th>\n",
       "      <th>Cloudiness</th>\n",
       "      <th>Wind Speed</th>\n",
       "      <th>Country</th>\n",
       "      <th>Date</th>\n",
       "    </tr>\n",
       "  </thead>\n",
       "  <tbody>\n",
       "    <tr>\n",
       "      <th>0</th>\n",
       "      <td>castro</td>\n",
       "      <td>-24.7911</td>\n",
       "      <td>-50.0119</td>\n",
       "      <td>57.06</td>\n",
       "      <td>77</td>\n",
       "      <td>0</td>\n",
       "      <td>3.47</td>\n",
       "      <td>BR</td>\n",
       "      <td>1634947702</td>\n",
       "    </tr>\n",
       "    <tr>\n",
       "      <th>1</th>\n",
       "      <td>richards bay</td>\n",
       "      <td>-28.7830</td>\n",
       "      <td>32.0377</td>\n",
       "      <td>67.75</td>\n",
       "      <td>87</td>\n",
       "      <td>26</td>\n",
       "      <td>2.75</td>\n",
       "      <td>ZA</td>\n",
       "      <td>1634947702</td>\n",
       "    </tr>\n",
       "    <tr>\n",
       "      <th>2</th>\n",
       "      <td>punta arenas</td>\n",
       "      <td>-53.1500</td>\n",
       "      <td>-70.9167</td>\n",
       "      <td>39.31</td>\n",
       "      <td>81</td>\n",
       "      <td>20</td>\n",
       "      <td>26.46</td>\n",
       "      <td>CL</td>\n",
       "      <td>1634947529</td>\n",
       "    </tr>\n",
       "    <tr>\n",
       "      <th>3</th>\n",
       "      <td>kapaa</td>\n",
       "      <td>22.0752</td>\n",
       "      <td>-159.3190</td>\n",
       "      <td>82.38</td>\n",
       "      <td>77</td>\n",
       "      <td>75</td>\n",
       "      <td>4.00</td>\n",
       "      <td>US</td>\n",
       "      <td>1634947703</td>\n",
       "    </tr>\n",
       "    <tr>\n",
       "      <th>4</th>\n",
       "      <td>mahebourg</td>\n",
       "      <td>-20.4081</td>\n",
       "      <td>57.7000</td>\n",
       "      <td>73.26</td>\n",
       "      <td>83</td>\n",
       "      <td>69</td>\n",
       "      <td>11.86</td>\n",
       "      <td>MU</td>\n",
       "      <td>1634947439</td>\n",
       "    </tr>\n",
       "    <tr>\n",
       "      <th>...</th>\n",
       "      <td>...</td>\n",
       "      <td>...</td>\n",
       "      <td>...</td>\n",
       "      <td>...</td>\n",
       "      <td>...</td>\n",
       "      <td>...</td>\n",
       "      <td>...</td>\n",
       "      <td>...</td>\n",
       "      <td>...</td>\n",
       "    </tr>\n",
       "    <tr>\n",
       "      <th>65</th>\n",
       "      <td>maldonado</td>\n",
       "      <td>-34.6667</td>\n",
       "      <td>-54.9167</td>\n",
       "      <td>60.22</td>\n",
       "      <td>95</td>\n",
       "      <td>98</td>\n",
       "      <td>4.88</td>\n",
       "      <td>UY</td>\n",
       "      <td>1634947725</td>\n",
       "    </tr>\n",
       "    <tr>\n",
       "      <th>66</th>\n",
       "      <td>airai</td>\n",
       "      <td>-8.9266</td>\n",
       "      <td>125.4092</td>\n",
       "      <td>73.53</td>\n",
       "      <td>51</td>\n",
       "      <td>96</td>\n",
       "      <td>1.25</td>\n",
       "      <td>TL</td>\n",
       "      <td>1634947726</td>\n",
       "    </tr>\n",
       "    <tr>\n",
       "      <th>67</th>\n",
       "      <td>rosario</td>\n",
       "      <td>-32.9468</td>\n",
       "      <td>-60.6393</td>\n",
       "      <td>65.61</td>\n",
       "      <td>80</td>\n",
       "      <td>98</td>\n",
       "      <td>11.01</td>\n",
       "      <td>AR</td>\n",
       "      <td>1634947653</td>\n",
       "    </tr>\n",
       "    <tr>\n",
       "      <th>68</th>\n",
       "      <td>husavik</td>\n",
       "      <td>66.0449</td>\n",
       "      <td>-17.3389</td>\n",
       "      <td>35.65</td>\n",
       "      <td>94</td>\n",
       "      <td>100</td>\n",
       "      <td>7.02</td>\n",
       "      <td>IS</td>\n",
       "      <td>1634947726</td>\n",
       "    </tr>\n",
       "    <tr>\n",
       "      <th>69</th>\n",
       "      <td>barrow</td>\n",
       "      <td>71.2906</td>\n",
       "      <td>-156.7887</td>\n",
       "      <td>30.22</td>\n",
       "      <td>86</td>\n",
       "      <td>90</td>\n",
       "      <td>5.75</td>\n",
       "      <td>US</td>\n",
       "      <td>1634947552</td>\n",
       "    </tr>\n",
       "  </tbody>\n",
       "</table>\n",
       "<p>70 rows × 9 columns</p>\n",
       "</div>"
      ],
      "text/plain": [
       "            City      Lat       Lng  Max Temp  Humidity  Cloudiness  \\\n",
       "0         castro -24.7911  -50.0119     57.06        77           0   \n",
       "1   richards bay -28.7830   32.0377     67.75        87          26   \n",
       "2   punta arenas -53.1500  -70.9167     39.31        81          20   \n",
       "3          kapaa  22.0752 -159.3190     82.38        77          75   \n",
       "4      mahebourg -20.4081   57.7000     73.26        83          69   \n",
       "..           ...      ...       ...       ...       ...         ...   \n",
       "65     maldonado -34.6667  -54.9167     60.22        95          98   \n",
       "66         airai  -8.9266  125.4092     73.53        51          96   \n",
       "67       rosario -32.9468  -60.6393     65.61        80          98   \n",
       "68       husavik  66.0449  -17.3389     35.65        94         100   \n",
       "69        barrow  71.2906 -156.7887     30.22        86          90   \n",
       "\n",
       "    Wind Speed Country        Date  \n",
       "0         3.47      BR  1634947702  \n",
       "1         2.75      ZA  1634947702  \n",
       "2        26.46      CL  1634947529  \n",
       "3         4.00      US  1634947703  \n",
       "4        11.86      MU  1634947439  \n",
       "..         ...     ...         ...  \n",
       "65        4.88      UY  1634947725  \n",
       "66        1.25      TL  1634947726  \n",
       "67       11.01      AR  1634947653  \n",
       "68        7.02      IS  1634947726  \n",
       "69        5.75      US  1634947552  \n",
       "\n",
       "[70 rows x 9 columns]"
      ]
     },
     "execution_count": 5,
     "metadata": {},
     "output_type": "execute_result"
    }
   ],
   "source": [
    "col = ['City', 'Lat', 'Lng', 'Max Temp', 'Humidity', 'Cloudiness', 'Wind Speed', 'Country', 'Date']\n",
    "weather_df = pd.DataFrame(weather_dict,columns=col)\n",
    "weather_df"
   ]
  },
  {
   "cell_type": "code",
   "execution_count": 6,
   "metadata": {},
   "outputs": [],
   "source": [
    "weather_df.to_csv(\"weather_raw.csv\")"
   ]
  },
  {
   "cell_type": "code",
   "execution_count": 7,
   "metadata": {},
   "outputs": [
    {
     "data": {
      "text/html": [
       "<div>\n",
       "<style scoped>\n",
       "    .dataframe tbody tr th:only-of-type {\n",
       "        vertical-align: middle;\n",
       "    }\n",
       "\n",
       "    .dataframe tbody tr th {\n",
       "        vertical-align: top;\n",
       "    }\n",
       "\n",
       "    .dataframe thead th {\n",
       "        text-align: right;\n",
       "    }\n",
       "</style>\n",
       "<table border=\"1\" class=\"dataframe\">\n",
       "  <thead>\n",
       "    <tr style=\"text-align: right;\">\n",
       "      <th></th>\n",
       "      <th>Lat</th>\n",
       "      <th>Lng</th>\n",
       "      <th>Max Temp</th>\n",
       "      <th>Humidity</th>\n",
       "      <th>Cloudiness</th>\n",
       "      <th>Wind Speed</th>\n",
       "      <th>Date</th>\n",
       "    </tr>\n",
       "  </thead>\n",
       "  <tbody>\n",
       "    <tr>\n",
       "      <th>count</th>\n",
       "      <td>70.000000</td>\n",
       "      <td>70.000000</td>\n",
       "      <td>70.000000</td>\n",
       "      <td>70.000000</td>\n",
       "      <td>70.000000</td>\n",
       "      <td>70.000000</td>\n",
       "      <td>7.000000e+01</td>\n",
       "    </tr>\n",
       "    <tr>\n",
       "      <th>mean</th>\n",
       "      <td>17.208231</td>\n",
       "      <td>-6.575024</td>\n",
       "      <td>55.583571</td>\n",
       "      <td>72.228571</td>\n",
       "      <td>61.014286</td>\n",
       "      <td>9.410286</td>\n",
       "      <td>1.634948e+09</td>\n",
       "    </tr>\n",
       "    <tr>\n",
       "      <th>std</th>\n",
       "      <td>40.590001</td>\n",
       "      <td>98.535953</td>\n",
       "      <td>21.434577</td>\n",
       "      <td>17.780605</td>\n",
       "      <td>38.571782</td>\n",
       "      <td>6.605870</td>\n",
       "      <td>8.982325e+01</td>\n",
       "    </tr>\n",
       "    <tr>\n",
       "      <th>min</th>\n",
       "      <td>-54.800000</td>\n",
       "      <td>-159.775000</td>\n",
       "      <td>-1.050000</td>\n",
       "      <td>19.000000</td>\n",
       "      <td>0.000000</td>\n",
       "      <td>0.000000</td>\n",
       "      <td>1.634947e+09</td>\n",
       "    </tr>\n",
       "    <tr>\n",
       "      <th>25%</th>\n",
       "      <td>-21.007875</td>\n",
       "      <td>-73.887150</td>\n",
       "      <td>41.417500</td>\n",
       "      <td>65.000000</td>\n",
       "      <td>21.500000</td>\n",
       "      <td>4.475000</td>\n",
       "      <td>1.634948e+09</td>\n",
       "    </tr>\n",
       "    <tr>\n",
       "      <th>50%</th>\n",
       "      <td>19.281850</td>\n",
       "      <td>-10.661250</td>\n",
       "      <td>56.830000</td>\n",
       "      <td>76.000000</td>\n",
       "      <td>75.000000</td>\n",
       "      <td>8.050000</td>\n",
       "      <td>1.634948e+09</td>\n",
       "    </tr>\n",
       "    <tr>\n",
       "      <th>75%</th>\n",
       "      <td>54.141550</td>\n",
       "      <td>71.060675</td>\n",
       "      <td>73.427500</td>\n",
       "      <td>82.750000</td>\n",
       "      <td>98.750000</td>\n",
       "      <td>12.482500</td>\n",
       "      <td>1.634948e+09</td>\n",
       "    </tr>\n",
       "    <tr>\n",
       "      <th>max</th>\n",
       "      <td>77.484000</td>\n",
       "      <td>172.790200</td>\n",
       "      <td>90.320000</td>\n",
       "      <td>100.000000</td>\n",
       "      <td>100.000000</td>\n",
       "      <td>26.750000</td>\n",
       "      <td>1.634948e+09</td>\n",
       "    </tr>\n",
       "  </tbody>\n",
       "</table>\n",
       "</div>"
      ],
      "text/plain": [
       "             Lat         Lng   Max Temp    Humidity  Cloudiness  Wind Speed  \\\n",
       "count  70.000000   70.000000  70.000000   70.000000   70.000000   70.000000   \n",
       "mean   17.208231   -6.575024  55.583571   72.228571   61.014286    9.410286   \n",
       "std    40.590001   98.535953  21.434577   17.780605   38.571782    6.605870   \n",
       "min   -54.800000 -159.775000  -1.050000   19.000000    0.000000    0.000000   \n",
       "25%   -21.007875  -73.887150  41.417500   65.000000   21.500000    4.475000   \n",
       "50%    19.281850  -10.661250  56.830000   76.000000   75.000000    8.050000   \n",
       "75%    54.141550   71.060675  73.427500   82.750000   98.750000   12.482500   \n",
       "max    77.484000  172.790200  90.320000  100.000000  100.000000   26.750000   \n",
       "\n",
       "               Date  \n",
       "count  7.000000e+01  \n",
       "mean   1.634948e+09  \n",
       "std    8.982325e+01  \n",
       "min    1.634947e+09  \n",
       "25%    1.634948e+09  \n",
       "50%    1.634948e+09  \n",
       "75%    1.634948e+09  \n",
       "max    1.634948e+09  "
      ]
     },
     "execution_count": 7,
     "metadata": {},
     "output_type": "execute_result"
    }
   ],
   "source": [
    "weather_df.describe()"
   ]
  },
  {
   "cell_type": "markdown",
   "metadata": {},
   "source": [
    "## Inspect the data and remove the cities where the humidity > 100%.\n",
    "----\n",
    "Skip this step if there are no cities that have humidity > 100%. "
   ]
  },
  {
   "cell_type": "code",
   "execution_count": 8,
   "metadata": {},
   "outputs": [
    {
     "data": {
      "text/plain": [
       "Int64Index([], dtype='int64')"
      ]
     },
     "execution_count": 8,
     "metadata": {},
     "output_type": "execute_result"
    }
   ],
   "source": [
    "#  Get the indices of cities that have humidity over 100%.\n",
    "drop_index=weather_df.loc[weather_df['Humidity']>100,:].index\n",
    "drop_index"
   ]
  },
  {
   "cell_type": "code",
   "execution_count": 9,
   "metadata": {},
   "outputs": [
    {
     "data": {
      "text/html": [
       "<div>\n",
       "<style scoped>\n",
       "    .dataframe tbody tr th:only-of-type {\n",
       "        vertical-align: middle;\n",
       "    }\n",
       "\n",
       "    .dataframe tbody tr th {\n",
       "        vertical-align: top;\n",
       "    }\n",
       "\n",
       "    .dataframe thead th {\n",
       "        text-align: right;\n",
       "    }\n",
       "</style>\n",
       "<table border=\"1\" class=\"dataframe\">\n",
       "  <thead>\n",
       "    <tr style=\"text-align: right;\">\n",
       "      <th></th>\n",
       "      <th>City</th>\n",
       "      <th>Lat</th>\n",
       "      <th>Lng</th>\n",
       "      <th>Max Temp</th>\n",
       "      <th>Humidity</th>\n",
       "      <th>Cloudiness</th>\n",
       "      <th>Wind Speed</th>\n",
       "      <th>Country</th>\n",
       "      <th>Date</th>\n",
       "    </tr>\n",
       "  </thead>\n",
       "  <tbody>\n",
       "    <tr>\n",
       "      <th>0</th>\n",
       "      <td>castro</td>\n",
       "      <td>-24.7911</td>\n",
       "      <td>-50.0119</td>\n",
       "      <td>57.06</td>\n",
       "      <td>77</td>\n",
       "      <td>0</td>\n",
       "      <td>3.47</td>\n",
       "      <td>BR</td>\n",
       "      <td>1634947702</td>\n",
       "    </tr>\n",
       "    <tr>\n",
       "      <th>1</th>\n",
       "      <td>richards bay</td>\n",
       "      <td>-28.7830</td>\n",
       "      <td>32.0377</td>\n",
       "      <td>67.75</td>\n",
       "      <td>87</td>\n",
       "      <td>26</td>\n",
       "      <td>2.75</td>\n",
       "      <td>ZA</td>\n",
       "      <td>1634947702</td>\n",
       "    </tr>\n",
       "    <tr>\n",
       "      <th>2</th>\n",
       "      <td>punta arenas</td>\n",
       "      <td>-53.1500</td>\n",
       "      <td>-70.9167</td>\n",
       "      <td>39.31</td>\n",
       "      <td>81</td>\n",
       "      <td>20</td>\n",
       "      <td>26.46</td>\n",
       "      <td>CL</td>\n",
       "      <td>1634947529</td>\n",
       "    </tr>\n",
       "    <tr>\n",
       "      <th>3</th>\n",
       "      <td>kapaa</td>\n",
       "      <td>22.0752</td>\n",
       "      <td>-159.3190</td>\n",
       "      <td>82.38</td>\n",
       "      <td>77</td>\n",
       "      <td>75</td>\n",
       "      <td>4.00</td>\n",
       "      <td>US</td>\n",
       "      <td>1634947703</td>\n",
       "    </tr>\n",
       "    <tr>\n",
       "      <th>4</th>\n",
       "      <td>mahebourg</td>\n",
       "      <td>-20.4081</td>\n",
       "      <td>57.7000</td>\n",
       "      <td>73.26</td>\n",
       "      <td>83</td>\n",
       "      <td>69</td>\n",
       "      <td>11.86</td>\n",
       "      <td>MU</td>\n",
       "      <td>1634947439</td>\n",
       "    </tr>\n",
       "    <tr>\n",
       "      <th>...</th>\n",
       "      <td>...</td>\n",
       "      <td>...</td>\n",
       "      <td>...</td>\n",
       "      <td>...</td>\n",
       "      <td>...</td>\n",
       "      <td>...</td>\n",
       "      <td>...</td>\n",
       "      <td>...</td>\n",
       "      <td>...</td>\n",
       "    </tr>\n",
       "    <tr>\n",
       "      <th>65</th>\n",
       "      <td>maldonado</td>\n",
       "      <td>-34.6667</td>\n",
       "      <td>-54.9167</td>\n",
       "      <td>60.22</td>\n",
       "      <td>95</td>\n",
       "      <td>98</td>\n",
       "      <td>4.88</td>\n",
       "      <td>UY</td>\n",
       "      <td>1634947725</td>\n",
       "    </tr>\n",
       "    <tr>\n",
       "      <th>66</th>\n",
       "      <td>airai</td>\n",
       "      <td>-8.9266</td>\n",
       "      <td>125.4092</td>\n",
       "      <td>73.53</td>\n",
       "      <td>51</td>\n",
       "      <td>96</td>\n",
       "      <td>1.25</td>\n",
       "      <td>TL</td>\n",
       "      <td>1634947726</td>\n",
       "    </tr>\n",
       "    <tr>\n",
       "      <th>67</th>\n",
       "      <td>rosario</td>\n",
       "      <td>-32.9468</td>\n",
       "      <td>-60.6393</td>\n",
       "      <td>65.61</td>\n",
       "      <td>80</td>\n",
       "      <td>98</td>\n",
       "      <td>11.01</td>\n",
       "      <td>AR</td>\n",
       "      <td>1634947653</td>\n",
       "    </tr>\n",
       "    <tr>\n",
       "      <th>68</th>\n",
       "      <td>husavik</td>\n",
       "      <td>66.0449</td>\n",
       "      <td>-17.3389</td>\n",
       "      <td>35.65</td>\n",
       "      <td>94</td>\n",
       "      <td>100</td>\n",
       "      <td>7.02</td>\n",
       "      <td>IS</td>\n",
       "      <td>1634947726</td>\n",
       "    </tr>\n",
       "    <tr>\n",
       "      <th>69</th>\n",
       "      <td>barrow</td>\n",
       "      <td>71.2906</td>\n",
       "      <td>-156.7887</td>\n",
       "      <td>30.22</td>\n",
       "      <td>86</td>\n",
       "      <td>90</td>\n",
       "      <td>5.75</td>\n",
       "      <td>US</td>\n",
       "      <td>1634947552</td>\n",
       "    </tr>\n",
       "  </tbody>\n",
       "</table>\n",
       "<p>70 rows × 9 columns</p>\n",
       "</div>"
      ],
      "text/plain": [
       "            City      Lat       Lng  Max Temp  Humidity  Cloudiness  \\\n",
       "0         castro -24.7911  -50.0119     57.06        77           0   \n",
       "1   richards bay -28.7830   32.0377     67.75        87          26   \n",
       "2   punta arenas -53.1500  -70.9167     39.31        81          20   \n",
       "3          kapaa  22.0752 -159.3190     82.38        77          75   \n",
       "4      mahebourg -20.4081   57.7000     73.26        83          69   \n",
       "..           ...      ...       ...       ...       ...         ...   \n",
       "65     maldonado -34.6667  -54.9167     60.22        95          98   \n",
       "66         airai  -8.9266  125.4092     73.53        51          96   \n",
       "67       rosario -32.9468  -60.6393     65.61        80          98   \n",
       "68       husavik  66.0449  -17.3389     35.65        94         100   \n",
       "69        barrow  71.2906 -156.7887     30.22        86          90   \n",
       "\n",
       "    Wind Speed Country        Date  \n",
       "0         3.47      BR  1634947702  \n",
       "1         2.75      ZA  1634947702  \n",
       "2        26.46      CL  1634947529  \n",
       "3         4.00      US  1634947703  \n",
       "4        11.86      MU  1634947439  \n",
       "..         ...     ...         ...  \n",
       "65        4.88      UY  1634947725  \n",
       "66        1.25      TL  1634947726  \n",
       "67       11.01      AR  1634947653  \n",
       "68        7.02      IS  1634947726  \n",
       "69        5.75      US  1634947552  \n",
       "\n",
       "[70 rows x 9 columns]"
      ]
     },
     "execution_count": 9,
     "metadata": {},
     "output_type": "execute_result"
    }
   ],
   "source": [
    "# Make a new DataFrame equal to the city data to drop all humidity outliers by index.\n",
    "# Passing \"inplace=False\" will make a copy of the city_data DataFrame, which we call \"clean_city_data\".\n",
    "clean_city_data = weather_df.drop(index=drop_index,inplace=False)\n",
    "clean_city_data"
   ]
  },
  {
   "cell_type": "code",
   "execution_count": null,
   "metadata": {},
   "outputs": [],
   "source": [
    "\n"
   ]
  },
  {
   "cell_type": "markdown",
   "metadata": {},
   "source": [
    "## Plotting the Data\n",
    "* Use proper labeling of the plots using plot titles (including date of analysis) and axes labels.\n",
    "* Save the plotted figures as .pngs."
   ]
  },
  {
   "cell_type": "markdown",
   "metadata": {},
   "source": [
    "## Latitude vs. Temperature Plot"
   ]
  },
  {
   "cell_type": "code",
   "execution_count": 10,
   "metadata": {
    "scrolled": true
   },
   "outputs": [
    {
     "data": {
      "image/png": "[encoded data removed]",
      "text/plain": [
       "<Figure size 432x288 with 1 Axes>"
      ]
     },
     "metadata": {
      "needs_background": "light"
     },
     "output_type": "display_data"
    }
   ],
   "source": [
    "clean_city_data.plot('Lat','Max Temp',kind='scatter',xlabel='Latitude',ylabel='MaxTemperature (F)',\n",
    "                     title='City Latitude vs Max Temperature (10/23/2021)',grid=True,xlim=(-60,80),ylim=(0,100))\n",
    "plt.show()"
   ]
  },
  {
   "cell_type": "markdown",
   "metadata": {},
   "source": [
    "## Latitude vs. Humidity Plot"
   ]
  },
  {
   "cell_type": "code",
   "execution_count": 11,
   "metadata": {},
   "outputs": [
    {
     "data": {
      "image/png": "[encoded data removed]",
      "text/plain": [
       "<Figure size 432x288 with 1 Axes>"
      ]
     },
     "metadata": {
      "needs_background": "light"
     },
     "output_type": "display_data"
    }
   ],
   "source": [
    "clean_city_data.plot('Lat','Humidity',kind='scatter',xlabel='Latitude',ylabel='Humidity (%)',\n",
    "                     title='City Latitude vs Humidity (10/23/2021)',grid=True,xlim=(-60,80),ylim=(0,100))\n",
    "plt.show()"
   ]
  },
  {
   "cell_type": "markdown",
   "metadata": {},
   "source": [
    "## Latitude vs. Cloudiness Plot"
   ]
  },
  {
   "cell_type": "code",
   "execution_count": 12,
   "metadata": {},
   "outputs": [
    {
     "data": {
      "image/png": "[encoded data removed]",
      "text/plain": [
       "<Figure size 432x288 with 1 Axes>"
      ]
     },
     "metadata": {
      "needs_background": "light"
     },
     "output_type": "display_data"
    }
   ],
   "source": [
    "clean_city_data.plot('Lat','Cloudiness',kind='scatter',xlabel='Latitude',ylabel='Cloudiness (%)',\n",
    "                     title='City Latitude vs Cloudiness (10/23/2021)',grid=True,xlim=(-60,80),ylim=(0,100))\n",
    "plt.show()"
   ]
  },
  {
   "cell_type": "markdown",
   "metadata": {},
   "source": [
    "## Latitude vs. Wind Speed Plot"
   ]
  },
  {
   "cell_type": "code",
   "execution_count": 13,
   "metadata": {},
   "outputs": [
    {
     "data": {
      "image/png": "[encoded data removed]",
      "text/plain": [
       "<Figure size 432x288 with 1 Axes>"
      ]
     },
     "metadata": {
      "needs_background": "light"
     },
     "output_type": "display_data"
    }
   ],
   "source": [
    "clean_city_data.plot('Lat','Wind Speed',kind='scatter',xlabel='Latitude',ylabel='Wind Speed (mph)',\n",
    "                     title='City Latitude vs Wind Speed (10/23/2021)',grid=True,xlim=(-60,80),ylim=(0,100))\n",
    "plt.show()"
   ]
  },
  {
   "cell_type": "markdown",
   "metadata": {},
   "source": [
    "## Linear Regression"
   ]
  },
  {
   "cell_type": "code",
   "execution_count": 15,
   "metadata": {},
   "outputs": [],
   "source": [
    "n_hemisphere = clean_city_data.loc[clean_city_data['Lat']>0]\n",
    "s_hemisphere = clean_city_data.loc[clean_city_data['Lat']<0]\n",
    "\n",
    "n_lat = n_hemisphere['Lat']\n",
    "s_lat = s_hemisphere['Lat']"
   ]
  },
  {
   "cell_type": "code",
   "execution_count": 16,
   "metadata": {},
   "outputs": [],
   "source": [
    "# Northern Hemisphere Linear Regressions\n",
    "Ntemp_slope, Ntemp_intercept, Ntemp_r_value, Ntemp_p_value, Ntemp_std = linregress(n_hemisphere['Lat'],n_hemisphere['Max Temp'])\n",
    "\n",
    "Nhm_slope, Nhm_intercept, Nhm_r_value, Nhm_p_value, Nhm_std = linregress(n_hemisphere['Lat'],n_hemisphere['Humidity'])\n",
    "\n",
    "Ncl_slope, Ncl_intercept, Ncl_r_value, Ncl_p_value, Ncl_std = linregress(n_hemisphere['Lat'],n_hemisphere['Cloudiness'])\n",
    "\n",
    "Nws_slope, Nws_intercept, Nws_r_value, Nws_p_value, Nws_std = linregress(n_hemisphere['Lat'],n_hemisphere['Wind Speed'])\n",
    "\n",
    "# Southern Hemisphere Linear Regressions\n",
    "Stemp_slope, Stemp_intercept, Stemp_r_value, Stemp_p_value, Stemp_std = linregress(s_hemisphere['Lat'],s_hemisphere['Max Temp'])\n",
    "\n",
    "Shm_slope, Shm_intercept, Shm_r_value, Shm_p_value, Shm_std = linregress(s_hemisphere['Lat'],s_hemisphere['Humidity'])\n",
    "\n",
    "Scl_slope, Scl_intercept, Scl_r_value, Scl_p_value, Scl_std = linregress(s_hemisphere['Lat'],s_hemisphere['Cloudiness'])\n",
    "\n",
    "Sws_slope, Sws_intercept, Sws_r_value, Sws_p_value, Sws_std = linregress(s_hemisphere['Lat'],s_hemisphere['Wind Speed'])"
   ]
  },
  {
   "cell_type": "markdown",
   "metadata": {},
   "source": [
    "####  Northern Hemisphere - Max Temp vs. Latitude Linear Regression"
   ]
  },
  {
   "cell_type": "code",
   "execution_count": 28,
   "metadata": {},
   "outputs": [
    {
     "name": "stdout",
     "output_type": "stream",
     "text": [
      "The r-value is -0.8980123644693025\n"
     ]
    },
    {
     "data": {
      "image/png": "[encoded data removed]",
      "text/plain": [
       "<Figure size 432x288 with 1 Axes>"
      ]
     },
     "metadata": {
      "needs_background": "light"
     },
     "output_type": "display_data"
    }
   ],
   "source": [
    "print(f'The r-value is {Ntemp_r_value}')\n",
    "n_hemisphere.plot('Lat','Max Temp',kind='scatter',xlabel='Latitude',ylabel='MaxTemperature (F)',\n",
    "                     grid=True,xlim=(0,80),ylim=(20,80))\n",
    "n_temp_fit = Ntemp_slope*n_lat+Ntemp_intercept\n",
    "eq_n_temp = (f'y = {round(Ntemp_slope,2)} x + {round(Ntemp_intercept,2)}')\n",
    "plt.annotate(eq_n_temp,(10,40),fontsize=15,color='r')\n",
    "plt.plot(n_lat,n_temp_fit,color='r')\n",
    "plt.show()"
   ]
  },
  {
   "cell_type": "markdown",
   "metadata": {},
   "source": [
    "####  Southern Hemisphere - Max Temp vs. Latitude Linear Regression"
   ]
  },
  {
   "cell_type": "code",
   "execution_count": 27,
   "metadata": {},
   "outputs": [
    {
     "name": "stdout",
     "output_type": "stream",
     "text": [
      "The r-value is 0.8192295608867898\n"
     ]
    },
    {
     "data": {
      "image/png": "[encoded data removed]",
      "text/plain": [
       "<Figure size 432x288 with 1 Axes>"
      ]
     },
     "metadata": {
      "needs_background": "light"
     },
     "output_type": "display_data"
    }
   ],
   "source": [
    "print(f'The r-value is {Stemp_r_value}')\n",
    "s_hemisphere.plot('Lat','Max Temp',kind='scatter',xlabel='Latitude',ylabel='MaxTemperature (F)',\n",
    "                     grid=True,xlim=(-60,0),ylim=(20,80))\n",
    "s_temp_fit = Stemp_slope*s_lat+Stemp_intercept\n",
    "eq_s_temp = (f'y = {round(Stemp_slope,2)} x + {round(Stemp_intercept,2)}')\n",
    "plt.annotate(eq_s_temp,(-30,40),fontsize=15,color='r')\n",
    "plt.plot(s_lat,s_temp_fit,color='r')\n",
    "plt.show()"
   ]
  },
  {
   "cell_type": "markdown",
   "metadata": {},
   "source": [
    "####  Northern Hemisphere - Humidity (%) vs. Latitude Linear Regression"
   ]
  },
  {
   "cell_type": "code",
   "execution_count": 26,
   "metadata": {},
   "outputs": [
    {
     "name": "stdout",
     "output_type": "stream",
     "text": [
      "The r-value is 0.029018747683620123\n"
     ]
    },
    {
     "data": {
      "image/png": "[encoded data removed]",
      "text/plain": [
       "<Figure size 432x288 with 1 Axes>"
      ]
     },
     "metadata": {
      "needs_background": "light"
     },
     "output_type": "display_data"
    }
   ],
   "source": [
    "print(f'The r-value is {Nhm_r_value}')\n",
    "n_hemisphere.plot('Lat','Humidity',kind='scatter',xlabel='Latitude',ylabel='Humidity (%)',\n",
    "                     grid=True,xlim=(0,80),ylim=(20,100))\n",
    "n_hm_fit = Nhm_slope*n_lat+Nhm_intercept\n",
    "eq_n_hm = (f'y = {round(Nhm_slope,2)} x + {round(Nhm_intercept,2)}')\n",
    "plt.annotate(eq_n_hm,(10,40),fontsize=15,color='r')\n",
    "plt.plot(n_lat,n_hm_fit,color='r')\n",
    "plt.show()"
   ]
  },
  {
   "cell_type": "markdown",
   "metadata": {},
   "source": [
    "####  Southern Hemisphere - Humidity (%) vs. Latitude Linear Regression"
   ]
  },
  {
   "cell_type": "code",
   "execution_count": 29,
   "metadata": {},
   "outputs": [
    {
     "name": "stdout",
     "output_type": "stream",
     "text": [
      "The r-value is 0.21792894692377013\n"
     ]
    },
    {
     "data": {
      "image/png": "[encoded data removed]",
      "text/plain": [
       "<Figure size 432x288 with 1 Axes>"
      ]
     },
     "metadata": {
      "needs_background": "light"
     },
     "output_type": "display_data"
    }
   ],
   "source": [
    "print(f'The r-value is {Shm_r_value}')\n",
    "s_hemisphere.plot('Lat','Humidity',kind='scatter',xlabel='Latitude',ylabel='Humidity (%)',\n",
    "                     grid=True,xlim=(-80,0),ylim=(20,100))\n",
    "s_hm_fit = Shm_slope*s_lat+Shm_intercept\n",
    "eq_s_hm = (f'y = {round(Shm_slope,2)} x + {round(Shm_intercept,2)}')\n",
    "plt.annotate(eq_s_hm,(-60,40),fontsize=15,color='r')\n",
    "plt.plot(s_lat,s_hm_fit,color='r')\n",
    "plt.show()"
   ]
  },
  {
   "cell_type": "markdown",
   "metadata": {},
   "source": [
    "####  Northern Hemisphere - Cloudiness (%) vs. Latitude Linear Regression"
   ]
  },
  {
   "cell_type": "code",
   "execution_count": 34,
   "metadata": {},
   "outputs": [
    {
     "name": "stdout",
     "output_type": "stream",
     "text": [
      "The r-value is 0.24168672477633543\n"
     ]
    },
    {
     "data": {
      "image/png": "[encoded data removed]",
      "text/plain": [
       "<Figure size 432x288 with 1 Axes>"
      ]
     },
     "metadata": {
      "needs_background": "light"
     },
     "output_type": "display_data"
    }
   ],
   "source": [
    "print(f'The r-value is {Ncl_r_value}')\n",
    "n_hemisphere.plot('Lat','Cloudiness',kind='scatter',xlabel='Latitude',ylabel='Cloudiness (%)',\n",
    "                     grid=True,xlim=(0,80),ylim=(-2,110))\n",
    "n_cl_fit = Ncl_slope*n_lat+Ncl_intercept\n",
    "eq_n_cl = (f'y = {round(Ncl_slope,2)} x + {round(Ncl_intercept,2)}')\n",
    "plt.annotate(eq_n_cl,(40,40),fontsize=15,color='r')\n",
    "plt.plot(n_lat,n_cl_fit,color='r')\n",
    "plt.show()"
   ]
  },
  {
   "cell_type": "markdown",
   "metadata": {},
   "source": [
    "####  Southern Hemisphere - Cloudiness (%) vs. Latitude Linear Regression"
   ]
  },
  {
   "cell_type": "code",
   "execution_count": 33,
   "metadata": {},
   "outputs": [
    {
     "name": "stdout",
     "output_type": "stream",
     "text": [
      "The r-value is 0.10631523818211519\n"
     ]
    },
    {
     "data": {
      "image/png": "[encoded data removed]",
      "text/plain": [
       "<Figure size 432x288 with 1 Axes>"
      ]
     },
     "metadata": {
      "needs_background": "light"
     },
     "output_type": "display_data"
    }
   ],
   "source": [
    "print(f'The r-value is {Scl_r_value}')\n",
    "s_hemisphere.plot('Lat','Cloudiness',kind='scatter',xlabel='Latitude',ylabel='Cloudiness (%)',\n",
    "                     grid=True,xlim=(-80,0),ylim=(-2,110))\n",
    "s_cl_fit = Scl_slope*s_lat+Scl_intercept\n",
    "eq_s_cl = (f'y = {round(Scl_slope,2)} x + {round(Scl_intercept,2)}')\n",
    "plt.annotate(eq_s_cl,(-40,40),fontsize=15,color='r')\n",
    "plt.plot(s_lat,s_cl_fit,color='r')\n",
    "plt.show()"
   ]
  },
  {
   "cell_type": "markdown",
   "metadata": {},
   "source": [
    "####  Northern Hemisphere - Wind Speed (mph) vs. Latitude Linear Regression"
   ]
  },
  {
   "cell_type": "code",
   "execution_count": 32,
   "metadata": {},
   "outputs": [
    {
     "name": "stdout",
     "output_type": "stream",
     "text": [
      "The r-value is 0.0747391421325366\n"
     ]
    },
    {
     "data": {
      "image/png": "[encoded data removed]",
      "text/plain": [
       "<Figure size 432x288 with 1 Axes>"
      ]
     },
     "metadata": {
      "needs_background": "light"
     },
     "output_type": "display_data"
    }
   ],
   "source": [
    "print(f'The r-value is {Nws_r_value}')\n",
    "n_hemisphere.plot('Lat','Wind Speed',kind='scatter',xlabel='Latitude',ylabel='Wind Speed (mph)',\n",
    "                     grid=True,xlim=(0,80),ylim=(0,45))\n",
    "n_ws_fit = Nws_slope*n_lat+Nws_intercept\n",
    "eq_n_ws = (f'y = {round(Nws_slope,2)} x + {round(Nws_intercept,2)}')\n",
    "plt.annotate(eq_n_ws,(40,40),fontsize=15,color='r')\n",
    "plt.plot(n_lat,n_ws_fit,color='r')\n",
    "plt.show()"
   ]
  },
  {
   "cell_type": "markdown",
   "metadata": {},
   "source": [
    "####  Southern Hemisphere - Wind Speed (mph) vs. Latitude Linear Regression"
   ]
  },
  {
   "cell_type": "code",
   "execution_count": 31,
   "metadata": {},
   "outputs": [
    {
     "name": "stdout",
     "output_type": "stream",
     "text": [
      "The r-value is -0.14729159272356737\n"
     ]
    },
    {
     "data": {
      "image/png": "[encoded data removed]",
      "text/plain": [
       "<Figure size 432x288 with 1 Axes>"
      ]
     },
     "metadata": {
      "needs_background": "light"
     },
     "output_type": "display_data"
    }
   ],
   "source": [
    "print(f'The r-value is {Sws_r_value}')\n",
    "s_hemisphere.plot('Lat','Wind Speed',kind='scatter',xlabel='Latitude',ylabel='Wind Speed (mph)',\n",
    "                     grid=True,xlim=(-80,0),ylim=(0,45))\n",
    "s_ws_fit = Sws_slope*s_lat+Sws_intercept\n",
    "eq_s_ws = (f'y = {round(Sws_slope,2)} x + {round(Sws_intercept,2)}')\n",
    "plt.annotate(eq_s_ws,(-40,40),fontsize=15,color='r')\n",
    "plt.plot(s_lat,s_ws_fit,color='r')\n",
    "plt.show()"
   ]
  },
  {
   "cell_type": "code",
   "execution_count": null,
   "metadata": {},
   "outputs": [],
   "source": []
  }
 ],
 "metadata": {
  "anaconda-cloud": {},
  "kernel_info": {
   "name": "python3"
  },
  "kernelspec": {
   "display_name": "Python 3",
   "language": "python",
   "name": "python3"
  },
  "language_info": {
   "codemirror_mode": {
    "name": "ipython",
    "version": 3
   },
   "file_extension": ".py",
   "mimetype": "text/x-python",
   "name": "python",
   "nbconvert_exporter": "python",
   "pygments_lexer": "ipython3",
   "version": "3.8.8"
  },
  "latex_envs": {
   "LaTeX_envs_menu_present": true,
   "autoclose": false,
   "autocomplete": true,
   "bibliofile": "biblio.bib",
   "cite_by": "apalike",
   "current_citInitial": 1,
   "eqLabelWithNumbers": true,
   "eqNumInitial": 1,
   "hotkeys": {
    "equation": "Ctrl-E",
    "itemize": "Ctrl-I"
   },
   "labels_anchors": false,
   "latex_user_defs": false,
   "report_style_numbering": false,
   "user_envs_cfg": false
  },
  "nteract": {
   "version": "0.12.3"
  }
 },
 "nbformat": 4,
 "nbformat_minor": 2
}
